{
 "cells": [
  {
   "cell_type": "code",
   "execution_count": null,
   "id": "69ced549-437f-4bff-87b8-89b631e57c50",
   "metadata": {},
   "outputs": [],
   "source": [
    "# ATTENDANCE FORM\n",
    "from IPython import display\n",
    "display.Image(\"/home/c/notes/plus/attendance.png\", width=400, height=400)"
   ]
  },
  {
   "cell_type": "markdown",
   "id": "dfd2780e-04c1-4c01-baa4-9cfb5d8308a8",
   "metadata": {},
   "source": [
    "### Topic List\n",
    "- Boolean expressions\n",
    "- Truthy values\n",
    "- Conditional statements\n",
    "- Flow of logic"
   ]
  },
  {
   "cell_type": "markdown",
   "id": "88274edd-dc11-4aae-9c04-9ecae49642d6",
   "metadata": {},
   "source": [
    "## *Opener*\n",
    "### Brain-dump\n",
    "#### Section 0: Write all syntactic and logical rules about conditionals, then write practice problems using those rules"
   ]
  },
  {
   "cell_type": "markdown",
   "id": "9ce6faae-addb-4f34-a4ae-9d1adf6e13ca",
   "metadata": {
    "jp-MarkdownHeadingCollapsed": true,
    "tags": []
   },
   "source": [
    "#### Review of truthy values\n",
    "Built-in types can hold a wide range of values, but programmers decided there is one false value, while everything else is True. For example:"
   ]
  },
  {
   "cell_type": "code",
   "execution_count": null,
   "id": "2fd24e26-12c6-4b64-995d-46407951fb3a",
   "metadata": {},
   "outputs": [],
   "source": [
    "bool(0), bool(0.0), bool(''), bool(None)"
   ]
  },
  {
   "cell_type": "code",
   "execution_count": null,
   "id": "6ddcf673-1bc7-4c03-933f-52ca9205066e",
   "metadata": {},
   "outputs": [],
   "source": [
    "bool(1), bool(139), bool(98.7), bool('Hello')"
   ]
  },
  {
   "cell_type": "markdown",
   "id": "eaa4ae84-5872-4175-a301-314dda9d5c84",
   "metadata": {},
   "source": [
    "In addition, True and False have default values when converted to other types, which can be used creatively to express some logic"
   ]
  },
  {
   "cell_type": "code",
   "execution_count": 4,
   "id": "84385337-b81f-4075-9c94-82e31fa2359d",
   "metadata": {},
   "outputs": [
    {
     "data": {
      "text/plain": [
       "(0, 0.0, 1, 1.0, '', 'Hello World')"
      ]
     },
     "execution_count": 4,
     "metadata": {},
     "output_type": "execute_result"
    }
   ],
   "source": [
    "int(False), float(False), int(True), float(True), \"Hello World\" * False, \"Hello World\" * True"
   ]
  },
  {
   "cell_type": "markdown",
   "id": "aed8389b-86a1-4d06-ac37-96f5de26f2dc",
   "metadata": {},
   "source": [
    "## *Closer*"
   ]
  },
  {
   "cell_type": "markdown",
   "id": "d6ced797-fbe4-46e2-b307-67903af9c4eb",
   "metadata": {},
   "source": [
    "https://gatech.instructure.com/courses/308850/files/folder/Lecture%20Materials?preview=38415621"
   ]
  },
  {
   "cell_type": "markdown",
   "id": "4742e3b0-532d-4a35-ace6-bafc65e26f97",
   "metadata": {},
   "source": [
    "https://gatech.instructure.com/courses/308850/files/folder/Lecture%20Materials?preview=37907801"
   ]
  },
  {
   "cell_type": "markdown",
   "id": "6a915fc2-8dae-42be-a62a-729c8e950446",
   "metadata": {},
   "source": [
    "Write a truth table\n",
    "nested if statments\n",
    "return value changed based on conditional\n",
    "printing tracing\n",
    "Write problems"
   ]
  }
 ],
 "metadata": {
  "kernelspec": {
   "display_name": "Python 3 (ipykernel)",
   "language": "python",
   "name": "python3"
  },
  "language_info": {
   "codemirror_mode": {
    "name": "ipython",
    "version": 3
   },
   "file_extension": ".py",
   "mimetype": "text/x-python",
   "name": "python",
   "nbconvert_exporter": "python",
   "pygments_lexer": "ipython3",
   "version": "3.10.9"
  }
 },
 "nbformat": 4,
 "nbformat_minor": 5
}
