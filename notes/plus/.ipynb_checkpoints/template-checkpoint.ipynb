{
 "cells": [
  {
   "cell_type": "code",
   "execution_count": null,
   "id": "69ced549-437f-4bff-87b8-89b631e57c50",
   "metadata": {},
   "outputs": [],
   "source": [
    "# ATTENDANCE FORM\n",
    "from IPython import display\n",
    "display.Image(\"/home/c/notes/plus/attendance.png\", width=400, height=400)"
   ]
  },
  {
   "cell_type": "markdown",
   "id": "dfd2780e-04c1-4c01-baa4-9cfb5d8308a8",
   "metadata": {},
   "source": [
    "### Topic List"
   ]
  },
  {
   "cell_type": "markdown",
   "id": "88274edd-dc11-4aae-9c04-9ecae49642d6",
   "metadata": {},
   "source": [
    "## *Opener*\n",
    "### Brain-dump\n",
    "#### Section 0:"
   ]
  },
  {
   "cell_type": "markdown",
   "id": "715ac57b-731f-4803-9b3f-69d2974178c6",
   "metadata": {},
   "source": [
    "## *Main Activity*\n",
    "#### Section 1:"
   ]
  },
  {
   "cell_type": "markdown",
   "id": "0193b2d4-46c4-437f-ba71-221990ad824e",
   "metadata": {},
   "source": [
    "## *Closer*\n"
   ]
  }
 ],
 "metadata": {
  "kernelspec": {
   "display_name": "Python 3 (ipykernel)",
   "language": "python",
   "name": "python3"
  },
  "language_info": {
   "codemirror_mode": {
    "name": "ipython",
    "version": 3
   },
   "file_extension": ".py",
   "mimetype": "text/x-python",
   "name": "python",
   "nbconvert_exporter": "python",
   "pygments_lexer": "ipython3",
   "version": "3.10.9"
  }
 },
 "nbformat": 4,
 "nbformat_minor": 5
}
